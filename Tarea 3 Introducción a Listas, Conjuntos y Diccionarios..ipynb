{
 "cells": [
  {
   "cell_type": "markdown",
   "metadata": {},
   "source": [
    "# Tarea 3 Introducción a Listas, Conjuntos y Diccionarios"
   ]
  },
  {
   "cell_type": "markdown",
   "metadata": {},
   "source": [
    "Autor: Tania Ivonne Rueda Fujiwara\n",
    "\n",
    "Desarrollar ejemplos para todas y cada una de las funciones de Listas, Conjuntos y Diccionarios, con el fin de comprender el correcto uso, utilidad e implementación de dichas estructuras de datos."
   ]
  },
  {
   "cell_type": "markdown",
   "metadata": {},
   "source": [
    "## Listas"
   ]
  },
  {
   "cell_type": "markdown",
   "metadata": {},
   "source": [
    "A continuación se muestra con ejemplos el uso, funcionalidad e implementación de cada uno de los métodos de las listas."
   ]
  },
  {
   "cell_type": "code",
   "execution_count": 100,
   "metadata": {},
   "outputs": [
    {
     "name": "stdout",
     "output_type": "stream",
     "text": [
      "['soy', 'un', 'ejemplo']\n",
      "['otra', 'lista', 'de', 'ejemplo']\n"
     ]
    }
   ],
   "source": [
    "#El constructor list(), se usa para crear una lista\n",
    "nvaLista = list([\"soy\",\"un\",\"ejemplo\"])\n",
    "print(nvaLista)\n",
    "\n",
    "#También se puede crear una lista sin el constructor\n",
    "nvaLista2 = [\"otra\",\"lista\",\"de\",\"ejemplo\"]\n",
    "print(nvaLista2)"
   ]
  },
  {
   "cell_type": "markdown",
   "metadata": {},
   "source": [
    "###### Agregar elementos a una lista:"
   ]
  },
  {
   "cell_type": "code",
   "execution_count": 98,
   "metadata": {},
   "outputs": [
    {
     "name": "stdout",
     "output_type": "stream",
     "text": [
      "['soy', 'un', 'ejemplo', 'voyAlFinal']\n"
     ]
    }
   ],
   "source": [
    "#Método append(), agrega un elemento al final de la lista\n",
    "nvaLista = [\"soy\",\"un\",\"ejemplo\"]\n",
    "nvaLista.append(\"voyAlFinal\")\n",
    "print(nvaLista)"
   ]
  },
  {
   "cell_type": "code",
   "execution_count": 99,
   "metadata": {},
   "outputs": [
    {
     "name": "stdout",
     "output_type": "stream",
     "text": [
      "['soy', 'un', 'bonito', 'ejemplo']\n"
     ]
    }
   ],
   "source": [
    "#Método insert(), agrega un elemento en un indice especificado\n",
    "nvaLista = [\"soy\",\"un\",\"ejemplo\"]\n",
    "nvaLista.insert(2,\"bonito\")\n",
    "print(nvaLista)"
   ]
  },
  {
   "cell_type": "code",
   "execution_count": 101,
   "metadata": {},
   "outputs": [
    {
     "name": "stdout",
     "output_type": "stream",
     "text": [
      "['soy', 'un', 'ejemplo', 'otra', 'lista', 'de', 'ejemplo']\n",
      "['Hello', 'world', 'List', 'otra', 'lista', 'de', 'ejemplo']\n"
     ]
    }
   ],
   "source": [
    "#Método extend(), agrega un iterable al final de una lista\n",
    "nvaLista.extend(nvaLista2)\n",
    "print(nvaLista)\n",
    "\n",
    "#Otra manera de unir dos listas es a través de +\n",
    "listaAuxiliar = [\"Hello\",\"world\",\"List\"]\n",
    "nvaLista3 = listaAuxiliar + nvaLista2\n",
    "print(nvaLista3)"
   ]
  },
  {
   "cell_type": "markdown",
   "metadata": {},
   "source": [
    "###### Eliminar elementos de una lista:"
   ]
  },
  {
   "cell_type": "code",
   "execution_count": 52,
   "metadata": {},
   "outputs": [
    {
     "name": "stdout",
     "output_type": "stream",
     "text": [
      "['soy', 'un', 'ejemplo', 'voyAlFinal']\n"
     ]
    }
   ],
   "source": [
    "#Método remove(), elimina un elemento específico de la lista \n",
    "nvaLista = [\"soy\",\"un\",\"bonito\",\"ejemplo\",\"voyAlFinal\"]\n",
    "nvaLista.remove(\"bonito\")\n",
    "print(nvaLista)"
   ]
  },
  {
   "cell_type": "code",
   "execution_count": 54,
   "metadata": {},
   "outputs": [
    {
     "name": "stdout",
     "output_type": "stream",
     "text": [
      "['soy', 'un', 'ejemplo', 'voyAlFinal']\n",
      "['soy', 'un', 'ejemplo']\n"
     ]
    }
   ],
   "source": [
    "#Método pop(), elimina el elemento en una posición específicada o el último elemento de la lista \n",
    "#en caso de que no se especifíque la posición.\n",
    "nvaLista = [\"soy\",\"un\",\"bonito\",\"ejemplo\",\"voyAlFinal\"]\n",
    "nvaLista.pop(2)\n",
    "print(nvaLista)\n",
    "\n",
    "nvaLista.pop()\n",
    "print(nvaLista)"
   ]
  },
  {
   "cell_type": "code",
   "execution_count": 56,
   "metadata": {},
   "outputs": [
    {
     "name": "stdout",
     "output_type": "stream",
     "text": [
      "['soy', 'un', 'bonito', 'ejemplo', 'voyAlFinal']\n",
      "[]\n"
     ]
    }
   ],
   "source": [
    "#Método clear(), elimina todos los elementos de la lista\n",
    "nvaLista = [\"soy\",\"un\",\"bonito\",\"ejemplo\",\"voyAlFinal\"]\n",
    "print(nvaLista)\n",
    "nvaLista.clear()\n",
    "print(nvaLista)"
   ]
  },
  {
   "cell_type": "code",
   "execution_count": 57,
   "metadata": {},
   "outputs": [
    {
     "name": "stdout",
     "output_type": "stream",
     "text": [
      "['soy', 'un', 'bonito', 'ejemplo']\n"
     ]
    },
    {
     "ename": "NameError",
     "evalue": "name 'nvaLista' is not defined",
     "output_type": "error",
     "traceback": [
      "\u001b[1;31m---------------------------------------------------------------------------\u001b[0m",
      "\u001b[1;31mNameError\u001b[0m                                 Traceback (most recent call last)",
      "\u001b[1;32m<ipython-input-57-ae2be44b0e6e>\u001b[0m in \u001b[0;36m<module>\u001b[1;34m\u001b[0m\n\u001b[0;32m      5\u001b[0m \u001b[1;33m\u001b[0m\u001b[0m\n\u001b[0;32m      6\u001b[0m \u001b[1;32mdel\u001b[0m \u001b[0mnvaLista\u001b[0m\u001b[1;33m\u001b[0m\u001b[1;33m\u001b[0m\u001b[0m\n\u001b[1;32m----> 7\u001b[1;33m \u001b[0mprint\u001b[0m\u001b[1;33m(\u001b[0m\u001b[0mnvaLista\u001b[0m\u001b[1;33m)\u001b[0m\u001b[1;33m\u001b[0m\u001b[1;33m\u001b[0m\u001b[0m\n\u001b[0m",
      "\u001b[1;31mNameError\u001b[0m: name 'nvaLista' is not defined"
     ]
    }
   ],
   "source": [
    "#Palabra clave del, elimina un elemento en una posición específicada o a la lista\n",
    "nvaLista = [\"soy\",\"un\",\"bonito\",\"ejemplo\",\"voyAlFinal\"]\n",
    "del nvaLista[4]\n",
    "print(nvaLista)\n",
    "\n",
    "del nvaLista\n",
    "print(nvaLista)"
   ]
  },
  {
   "cell_type": "markdown",
   "metadata": {},
   "source": [
    "###### Otros métodos de list():"
   ]
  },
  {
   "cell_type": "code",
   "execution_count": 118,
   "metadata": {},
   "outputs": [
    {
     "name": "stdout",
     "output_type": "stream",
     "text": [
      "5\n"
     ]
    }
   ],
   "source": [
    "#Métodod len(), sirve para conocer la longitud de una lista\n",
    "nvaLista = [\"soy\",\"un\",\"bonito\",\"ejemplo\",\"voyAlFinal\"]\n",
    "print(len(nvaLista))"
   ]
  },
  {
   "cell_type": "code",
   "execution_count": 81,
   "metadata": {},
   "outputs": [
    {
     "name": "stdout",
     "output_type": "stream",
     "text": [
      "El elemento 5 se repite: 6 veces\n"
     ]
    }
   ],
   "source": [
    "#Mëtodo count(), devuelve el número de veces que aparece un elemento en una lista\n",
    "nvaLista = [2,6,3,4,5,5,7,5,9,1,5,2,5,5]\n",
    "meRepito = nvaLista.count(5)\n",
    "print(\"El elemento 5 se repite:\", meRepito, \"veces\")"
   ]
  },
  {
   "cell_type": "code",
   "execution_count": 88,
   "metadata": {},
   "outputs": [
    {
     "name": "stdout",
     "output_type": "stream",
     "text": [
      "La posición de 'bonito' es: 2\n"
     ]
    }
   ],
   "source": [
    "#Método index(), devuelve la posición que tiene un elemento dentro de una lista\n",
    "nvaLista = [\"soy\",\"un\",\"bonito\",\"ejemplo\",\"voyAlFinal\"]\n",
    "miPosicion = nvaLista.index(\"bonito\")\n",
    "print(\"La posición de 'bonito' es:\",miPosicion)"
   ]
  },
  {
   "cell_type": "code",
   "execution_count": 86,
   "metadata": {},
   "outputs": [
    {
     "name": "stdout",
     "output_type": "stream",
     "text": [
      "['soy', 'un', 'bonito', 'ejemplo', 'voyAlFinal']\n"
     ]
    }
   ],
   "source": [
    "#Método copy(), devuelve uan copia de una lista\n",
    "nvaLista = [\"soy\",\"un\",\"bonito\",\"ejemplo\",\"voyAlFinal\"]\n",
    "otraLista = nvaLista.copy()\n",
    "print(otraLista)"
   ]
  },
  {
   "cell_type": "code",
   "execution_count": 71,
   "metadata": {},
   "outputs": [
    {
     "name": "stdout",
     "output_type": "stream",
     "text": [
      "Original: ['lista', 'soy', 'bonito', 'ejemplo']\n",
      "Orden alfabético Ascendente: ['bonito', 'ejemplo', 'lista', 'soy']\n"
     ]
    }
   ],
   "source": [
    "#Método sort(), sirve para ordenar la lista de forma ascendente\n",
    "nvaLista = [\"lista\",\"soy\",\"bonito\",\"ejemplo\"]\n",
    "print(\"Original:\", nvaLista)\n",
    "\n",
    "nvaLista.sort()\n",
    "print(\"Orden alfabético Ascendente:\", nvaLista)"
   ]
  },
  {
   "cell_type": "code",
   "execution_count": 72,
   "metadata": {},
   "outputs": [
    {
     "name": "stdout",
     "output_type": "stream",
     "text": [
      "Original: ['lista', 'soy', 'bonito', 'ejemplo']\n",
      "Orden alfabético Descendente:  ['soy', 'lista', 'ejemplo', 'bonito']\n",
      "\n",
      "Original: ['lista', 'soy', 'bonito', 'ejemplo']\n",
      "Ordenada por el tamaño de cada palabra:  ['soy', 'lista', 'bonito', 'ejemplo']\n"
     ]
    }
   ],
   "source": [
    "#También puede crear una función para decidir los criterios de clasificación \n",
    "#Sintaxis list.sort(reverse=True|False, key=myFunc)\n",
    "nvaLista = [\"lista\",\"soy\",\"bonito\",\"ejemplo\"]\n",
    "print(\"Original:\", nvaLista)\n",
    "nvaLista.sort(reverse=True)\n",
    "print(\"Orden alfabético Descendente: \", nvaLista)\n",
    "\n",
    "def myFunc(e):\n",
    "    return len(e)\n",
    "nvaLista = [\"lista\",\"soy\",\"bonito\",\"ejemplo\"]\n",
    "print(\"\\nOriginal:\", nvaLista)\n",
    "\n",
    "nvaLista.sort(key=myFunc)\n",
    "print(\"Ordenada por el tamaño de cada palabra: \", nvaLista)"
   ]
  },
  {
   "cell_type": "code",
   "execution_count": 76,
   "metadata": {},
   "outputs": [
    {
     "name": "stdout",
     "output_type": "stream",
     "text": [
      "Original: ['lista', 'soy', 'un', 'bonito', 'ejemplo']\n",
      "Invertida:  ['ejemplo', 'bonito', 'un', 'soy', 'lista']\n"
     ]
    }
   ],
   "source": [
    "#Método reverse(), invierte el orden de los elementos de una lista\n",
    "nvaLista = [\"lista\",\"soy\",\"un\",\"bonito\",\"ejemplo\"]\n",
    "print(\"Original:\", nvaLista)\n",
    "\n",
    "nvaLista.reverse()\n",
    "print(\"Invertida: \", nvaLista)"
   ]
  },
  {
   "cell_type": "markdown",
   "metadata": {},
   "source": [
    "## Conjuntos"
   ]
  },
  {
   "cell_type": "code",
   "execution_count": 95,
   "metadata": {},
   "outputs": [
    {
     "name": "stdout",
     "output_type": "stream",
     "text": [
      "{'pan', 'jitomate', 'lechuga', 'quesoGouda', 'jamon'}\n",
      "{'tortilla', 'quesoOaxaca', 'jamon', 'quesoGouda'}\n"
     ]
    }
   ],
   "source": [
    "#El constructor set(), se usa para crear un conjunto\n",
    "nvoConjunto = set({\"pan\",\"jamon\",\"lechuga\",\"jitomate\", \"quesoGouda\"})\n",
    "print(nvoConjunto)\n",
    "\n",
    "#También se puede crear un conjunto sin el constructor\n",
    "nvoConjunto2 = {\"tortilla\",\"quesoOaxaca\",\"jamon\",\"quesoGouda\"}\n",
    "print(nvoConjunto2)"
   ]
  },
  {
   "cell_type": "markdown",
   "metadata": {},
   "source": [
    "###### Agregar elementos a un conjunto:"
   ]
  },
  {
   "cell_type": "code",
   "execution_count": 102,
   "metadata": {},
   "outputs": [
    {
     "name": "stdout",
     "output_type": "stream",
     "text": [
      "{'mayonesa', 'lechuga', 'quesoGouda', 'jamon', 'jitomate', 'pan'}\n"
     ]
    }
   ],
   "source": [
    "#Método add(), agrega un elemento al conjunto\n",
    "nvoConjunto = {\"pan\",\"jamon\",\"lechuga\",\"jitomate\", \"quesoGouda\"}\n",
    "nvoConjunto.add(\"mayonesa\")\n",
    "print(nvoConjunto)"
   ]
  },
  {
   "cell_type": "code",
   "execution_count": 104,
   "metadata": {},
   "outputs": [
    {
     "name": "stdout",
     "output_type": "stream",
     "text": [
      "{'mayonesa', 'mostaza', 'lechuga', 'pepinillos', 'quesoGouda', 'jamon', 'jitomate', 'pan'}\n",
      "{'mayonesa', 'mostaza', 'lechuga', 'pepinillos', 'quesoGouda', 'jamon', 'jitomate', 'cebolla', 'chipotle', 'pan'}\n"
     ]
    }
   ],
   "source": [
    "#Método update(), agrega varios elementos al conjunto\n",
    "nvoConjunto = {\"pan\",\"jamon\",\"lechuga\",\"jitomate\", \"quesoGouda\"}\n",
    "nvoConjunto.update({\"mayonesa\",\"mostaza\",\"pepinillos\"})\n",
    "print(nvoConjunto)\n",
    "\n",
    "#También se puede usar para unir dos conjuntos\n",
    "conjuntoAuxiliar = {\"cebolla\",\"chipotle\"}\n",
    "nvoConjunto.update(conjuntoAuxiliar)\n",
    "print(nvoConjunto)"
   ]
  },
  {
   "cell_type": "markdown",
   "metadata": {},
   "source": [
    "###### Eliminar elementos de un conjunto:"
   ]
  },
  {
   "cell_type": "code",
   "execution_count": 105,
   "metadata": {},
   "outputs": [
    {
     "name": "stdout",
     "output_type": "stream",
     "text": [
      "{'lechuga', 'quesoGouda', 'jamon', 'pan'}\n"
     ]
    }
   ],
   "source": [
    "#Método remove(), elimina un elemento específico del conjunto, si ese elemento no se encuentra en el conjunto genera 1 error\n",
    "nvoConjunto = {\"pan\",\"jamon\",\"lechuga\",\"jitomate\", \"quesoGouda\"}\n",
    "nvoConjunto.remove(\"jitomate\")\n",
    "print(nvoConjunto)"
   ]
  },
  {
   "cell_type": "code",
   "execution_count": 106,
   "metadata": {},
   "outputs": [
    {
     "name": "stdout",
     "output_type": "stream",
     "text": [
      "{'lechuga', 'quesoGouda', 'jamon', 'pan'}\n"
     ]
    }
   ],
   "source": [
    "#Método discard(), elimina un elemento específico de un conjunto,\n",
    "nvoConjunto = {\"pan\",\"jamon\",\"lechuga\",\"jitomate\", \"quesoGouda\"}\n",
    "nvoConjunto.discard(\"jitomate\")\n",
    "print(nvoConjunto)"
   ]
  },
  {
   "cell_type": "code",
   "execution_count": 108,
   "metadata": {},
   "outputs": [
    {
     "name": "stdout",
     "output_type": "stream",
     "text": [
      "{'lechuga', 'quesoGouda', 'jamon', 'jitomate', 'pan'}\n",
      "{'quesoGouda', 'jamon', 'jitomate', 'pan'}\n",
      "Eliminado: lechuga\n"
     ]
    }
   ],
   "source": [
    "#Método pop(), elimina un elemento aleatorio del conjunto y devuelve ese elemento\n",
    "nvoConjunto = {\"pan\",\"jamon\",\"lechuga\",\"jitomate\", \"quesoGouda\"}\n",
    "print(nvoConjunto)\n",
    "elemEliminado = nvoConjunto.pop()\n",
    "print(nvoConjunto)\n",
    "print(\"Eliminado:\",elemEliminado)"
   ]
  },
  {
   "cell_type": "code",
   "execution_count": 109,
   "metadata": {},
   "outputs": [
    {
     "name": "stdout",
     "output_type": "stream",
     "text": [
      "set()\n"
     ]
    }
   ],
   "source": [
    "#Método clear(), elimina todos los elementos de un conjunto\n",
    "nvoConjunto = {\"pan\",\"jamon\",\"lechuga\",\"jitomate\", \"quesoGouda\"}\n",
    "nvoConjunto.clear()\n",
    "print(nvoConjunto)"
   ]
  },
  {
   "cell_type": "code",
   "execution_count": 150,
   "metadata": {},
   "outputs": [
    {
     "name": "stdout",
     "output_type": "stream",
     "text": [
      "{'lechuga', 'quesoGouda', 'jamon', 'jitomate', 'pan'}\n"
     ]
    },
    {
     "ename": "NameError",
     "evalue": "name 'nvoConjunto' is not defined",
     "output_type": "error",
     "traceback": [
      "\u001b[1;31m---------------------------------------------------------------------------\u001b[0m",
      "\u001b[1;31mNameError\u001b[0m                                 Traceback (most recent call last)",
      "\u001b[1;32m<ipython-input-150-e46621167e20>\u001b[0m in \u001b[0;36m<module>\u001b[1;34m\u001b[0m\n\u001b[0;32m      3\u001b[0m \u001b[0mprint\u001b[0m\u001b[1;33m(\u001b[0m\u001b[0mnvoConjunto\u001b[0m\u001b[1;33m)\u001b[0m\u001b[1;33m\u001b[0m\u001b[1;33m\u001b[0m\u001b[0m\n\u001b[0;32m      4\u001b[0m \u001b[1;32mdel\u001b[0m \u001b[0mnvoConjunto\u001b[0m\u001b[1;33m\u001b[0m\u001b[1;33m\u001b[0m\u001b[0m\n\u001b[1;32m----> 5\u001b[1;33m \u001b[0mprint\u001b[0m\u001b[1;33m(\u001b[0m\u001b[0mnvoConjunto\u001b[0m\u001b[1;33m)\u001b[0m\u001b[1;33m\u001b[0m\u001b[1;33m\u001b[0m\u001b[0m\n\u001b[0m",
      "\u001b[1;31mNameError\u001b[0m: name 'nvoConjunto' is not defined"
     ]
    }
   ],
   "source": [
    "#Palabra clave del, elimina la conjunto\n",
    "nvoConjunto = {\"pan\",\"jamon\",\"lechuga\",\"jitomate\", \"quesoGouda\"}\n",
    "del nvoConjunto\n",
    "print(nvoConjunto)"
   ]
  },
  {
   "cell_type": "markdown",
   "metadata": {},
   "source": [
    "###### Métodos para trabajar con dos conjuntos:"
   ]
  },
  {
   "cell_type": "code",
   "execution_count": 110,
   "metadata": {},
   "outputs": [
    {
     "name": "stdout",
     "output_type": "stream",
     "text": [
      "{'pan', 'jitomate', 'quesoOaxaca', 'lechuga', 'quesoGouda', 'jamon', 'tortilla'}\n"
     ]
    }
   ],
   "source": [
    "#Método union(), devuelve un conjunto con tood los elementos de dos o más conjuntos, excluyendo a los repetidos\n",
    "nvoConjunto = {\"pan\",\"jamon\",\"lechuga\",\"jitomate\", \"quesoGouda\"}\n",
    "nvoConjunto2 = {\"tortilla\",\"quesoOaxaca\",\"jamon\",\"quesoGouda\"}\n",
    "unidos = nvoConjunto.union(nvoConjunto2)\n",
    "print(unidos)"
   ]
  },
  {
   "cell_type": "code",
   "execution_count": 114,
   "metadata": {},
   "outputs": [
    {
     "name": "stdout",
     "output_type": "stream",
     "text": [
      "{'pan'}\n"
     ]
    }
   ],
   "source": [
    "#Método difference(),devuelve un conjunto que contiene los elementos que solo existen en un conjunto y no en otro conjunto\n",
    "#el conjunto devuelto contiene elementos que existen solo en el primer conjunto y no en ambos conjuntos\n",
    "nvoConjunto = {\"pan\",\"jamon\",\"lechuga\",\"jitomate\", \"quesoGouda\"}\n",
    "nvoConjunto2 = {\"tortilla\",\"quesoOaxaca\",\"jamon\",\"quesoGouda\",\"lechuga\",\"jitomate\"}\n",
    "sinRepetidos = nvoConjunto.difference(nvoConjunto2) \n",
    "print(sinRepetidos)"
   ]
  },
  {
   "cell_type": "code",
   "execution_count": 115,
   "metadata": {},
   "outputs": [
    {
     "name": "stdout",
     "output_type": "stream",
     "text": [
      "{'pan'}\n"
     ]
    }
   ],
   "source": [
    "#Método difference_update(),elimina los elementos que existen en dos conjuntos, devuelve el conjunto original modificado\n",
    "nvoConjunto = {\"pan\",\"jamon\",\"lechuga\",\"jitomate\", \"quesoGouda\"}\n",
    "nvoConjunto2 = {\"tortilla\",\"quesoOaxaca\",\"jamon\",\"quesoGouda\",\"lechuga\",\"jitomate\"}\n",
    "nvoConjunto.difference_update(nvoConjunto2) \n",
    "print(nvoConjunto)"
   ]
  },
  {
   "cell_type": "code",
   "execution_count": 121,
   "metadata": {},
   "outputs": [
    {
     "name": "stdout",
     "output_type": "stream",
     "text": [
      "{'quesoOaxaca', 'pan', 'tortilla'}\n"
     ]
    }
   ],
   "source": [
    "#Método symmetric_difference(), devuelve un conjunto que contiene todos los elementos de dos conjuntos, sin repetidos\n",
    "nvoConjunto = {\"pan\",\"jamon\",\"lechuga\",\"jitomate\", \"quesoGouda\"}\n",
    "nvoConjunto2 = {\"tortilla\",\"quesoOaxaca\",\"jamon\",\"quesoGouda\",\"lechuga\",\"jitomate\"}\n",
    "sinRepetidos = nvoConjunto.symmetric_difference(nvoConjunto2) \n",
    "print(sinRepetidos)"
   ]
  },
  {
   "cell_type": "code",
   "execution_count": 122,
   "metadata": {},
   "outputs": [
    {
     "name": "stdout",
     "output_type": "stream",
     "text": [
      "{'quesoOaxaca', 'tortilla', 'pan'}\n"
     ]
    }
   ],
   "source": [
    "#Método symmetric_difference_update(), actualiza el conjunto original eliminando elementos que están repetidos en los dos\n",
    "#onjuntos e insertando los demás elementos\n",
    "nvoConjunto = {\"pan\",\"jamon\",\"lechuga\",\"jitomate\", \"quesoGouda\"}\n",
    "nvoConjunto2 = {\"tortilla\",\"quesoOaxaca\",\"jamon\",\"quesoGouda\",\"lechuga\",\"jitomate\"}\n",
    "nvoConjunto.symmetric_difference_update(nvoConjunto2) \n",
    "print(nvoConjunto)"
   ]
  },
  {
   "cell_type": "code",
   "execution_count": 116,
   "metadata": {},
   "outputs": [
    {
     "name": "stdout",
     "output_type": "stream",
     "text": [
      "{'jamon', 'jitomate', 'lechuga', 'quesoGouda'}\n"
     ]
    }
   ],
   "source": [
    "#Método intersection(), devuelve un conjunto que contiene los elementos que existen entre dos o más conjuntos\n",
    "nvoConjunto = {\"pan\",\"jamon\",\"lechuga\",\"jitomate\", \"quesoGouda\"}\n",
    "nvoConjunto2 = {\"tortilla\",\"quesoOaxaca\",\"jamon\",\"quesoGouda\",\"lechuga\",\"jitomate\"}\n",
    "repetidos = nvoConjunto.intersection(nvoConjunto2) \n",
    "print(repetidos)"
   ]
  },
  {
   "cell_type": "code",
   "execution_count": 117,
   "metadata": {},
   "outputs": [
    {
     "name": "stdout",
     "output_type": "stream",
     "text": [
      "{'jamon', 'jitomate', 'lechuga', 'quesoGouda'}\n"
     ]
    }
   ],
   "source": [
    "#Método intersection_update(),elimina los elementos que no están presentes en dos o más conjuntos, \n",
    "#devuelve el conjunto original modificado\n",
    "nvoConjunto = {\"pan\",\"jamon\",\"lechuga\",\"jitomate\", \"quesoGouda\"}\n",
    "nvoConjunto2 = {\"tortilla\",\"quesoOaxaca\",\"jamon\",\"quesoGouda\",\"lechuga\",\"jitomate\"}\n",
    "nvoConjunto.intersection_update(nvoConjunto2) \n",
    "print(nvoConjunto)"
   ]
  },
  {
   "cell_type": "code",
   "execution_count": 124,
   "metadata": {},
   "outputs": [
    {
     "name": "stdout",
     "output_type": "stream",
     "text": [
      "Los conjuntos son iguales:  False\n"
     ]
    }
   ],
   "source": [
    "#Método isdisjoint(), devuelve True si ninguno de los elementos está repetido en dos conjuntos; sino, devuelve False\n",
    "nvoConjunto = {\"pan\",\"jamon\",\"lechuga\",\"jitomate\", \"quesoGouda\"}\n",
    "nvoConjunto2 = {\"tortilla\",\"quesoOaxaca\",\"jamon\",\"quesoGouda\",\"lechuga\",\"jitomate\"}\n",
    "sonIguales = nvoConjunto.isdisjoint(nvoConjunto2) \n",
    "print(\"Los conjuntos son iguales: \", sonIguales)"
   ]
  },
  {
   "cell_type": "code",
   "execution_count": 127,
   "metadata": {},
   "outputs": [
    {
     "name": "stdout",
     "output_type": "stream",
     "text": [
      "Los elementos del primer conjunto estan el segundo conjunto:  True\n"
     ]
    }
   ],
   "source": [
    "#Método issubset(), devuelve True si todos los elementos de un conjunto existen en el otro conjunto especificado; \n",
    "#sino, devuelve False.\n",
    "nvoConjunto = {\"jamon\",\"lechuga\",\"jitomate\", \"quesoGouda\"}\n",
    "nvoConjunto2 = {\"tortilla\",\"quesoOaxaca\",\"jamon\",\"quesoGouda\",\"lechuga\",\"jitomate\"}\n",
    "tengoTusElementos = nvoConjunto.issubset(nvoConjunto2) \n",
    "print(\"Los elementos del primer conjunto estan el segundo conjunto: \", tengoTusElementos)"
   ]
  },
  {
   "cell_type": "code",
   "execution_count": 130,
   "metadata": {},
   "outputs": [
    {
     "name": "stdout",
     "output_type": "stream",
     "text": [
      "Los elementos del segundo conjunto estan el primer conjunto:  True\n"
     ]
    }
   ],
   "source": [
    "#Método issuperset(), devuelve True si todos los elementos de un conjunto especificado existen en el conjunto original; \n",
    "#de lo contrario, devuelve False.\n",
    "nvoConjunto = {\"tortilla\",\"quesoOaxaca\",\"jamon\",\"quesoGouda\",\"lechuga\",\"jitomate\"}\n",
    "nvoConjunto2 = {\"jamon\",\"lechuga\",\"jitomate\", \"quesoGouda\"}\n",
    "tienesMisElementos = nvoConjunto.issuperset(nvoConjunto2) \n",
    "print(\"Los elementos del segundo conjunto estan el primer conjunto: \", tienesMisElementos)"
   ]
  },
  {
   "cell_type": "markdown",
   "metadata": {},
   "source": [
    "###### Otros métodos de set():"
   ]
  },
  {
   "cell_type": "code",
   "execution_count": 119,
   "metadata": {},
   "outputs": [
    {
     "name": "stdout",
     "output_type": "stream",
     "text": [
      "5\n"
     ]
    }
   ],
   "source": [
    "#Métodod len(), sirve para conocer la longitud de un conjunto\n",
    "nvoConjunto = {\"pan\",\"jamon\",\"lechuga\",\"jitomate\", \"quesoGouda\"}\n",
    "print(len(nvoConjunto))"
   ]
  },
  {
   "cell_type": "code",
   "execution_count": 120,
   "metadata": {},
   "outputs": [
    {
     "name": "stdout",
     "output_type": "stream",
     "text": [
      "{'pan', 'jitomate', 'lechuga', 'quesoGouda', 'jamon'}\n"
     ]
    }
   ],
   "source": [
    "#Método copy(), devuelve una copia de un conjunto\n",
    "nvoConjunto = {\"pan\",\"jamon\",\"lechuga\",\"jitomate\", \"quesoGouda\"}\n",
    "otroConjunto = nvoConjunto.copy()\n",
    "print(otroConjunto)"
   ]
  },
  {
   "cell_type": "markdown",
   "metadata": {},
   "source": [
    "## Diccionarios"
   ]
  },
  {
   "cell_type": "code",
   "execution_count": 135,
   "metadata": {},
   "outputs": [
    {
     "name": "stdout",
     "output_type": "stream",
     "text": [
      "{'nombre': 'Tania', 'apellidoP': 'Rueda', 'apellidoM': 'Fujiwara', 'matricula': 2113067586}\n",
      "{'nombre': 'Cristina', 'apellidoP': 'Romero', 'apellidoM': 'Flores', 'matricula': 210380608}\n"
     ]
    }
   ],
   "source": [
    "#El constructor dict(), se usa para crear un diccionario\n",
    "nvoDict = dict(nombre=\"Tania\", apellidoP=\"Rueda\", apellidoM=\"Fujiwara\", matricula= 2113067586)\n",
    "print(nvoDict)\n",
    "\n",
    "#También se puede crear un diccionario sin el constructor\n",
    "nvoDict2 = {\"nombre\": \"Cristina\", \"apellidoP\": \"Romero\", \"apellidoM\": \"Flores\", \"matricula\": 210380608}\n",
    "print(nvoDict2)"
   ]
  },
  {
   "cell_type": "markdown",
   "metadata": {},
   "source": [
    "###### Agregar elementos a un diccionario:"
   ]
  },
  {
   "cell_type": "code",
   "execution_count": 138,
   "metadata": {},
   "outputs": [
    {
     "name": "stdout",
     "output_type": "stream",
     "text": [
      "{'nombre': 'Tania', 'apellidoP': 'Rueda', 'apellidoM': 'Fujiwara', 'matricula': 2113067586, 'edad': 27}\n",
      "\n",
      " {'nombre': 'Cristina', 'apellidoP': 'Romero', 'apellidoM': 'Flores', 'matricula': 210380608, 'edad': 28}\n"
     ]
    }
   ],
   "source": [
    "#Método update(),inserta elementos especificados como un diccionario o un objeto iterable a un diccionario\n",
    "nvoDict = {\"nombre\": \"Tania\", \"apellidoP\": \"Rueda\", \"apellidoM\": \"Fujiwara\", \"matricula\": 2113067586}\n",
    "nvoDict.update({\"edad\": 27})\n",
    "print(nvoDict)\n",
    "\n",
    "#También se puede agregar un elemento utilizando una nueva llave de índice y asignándole un valor\n",
    "nvoDict2 = {\"nombre\": \"Cristina\", \"apellidoP\": \"Romero\", \"apellidoM\": \"Flores\", \"matricula\": 210380608}\n",
    "nvoDict2[\"edad\"] = 28\n",
    "print(\"\\n\",nvoDict2)"
   ]
  },
  {
   "cell_type": "code",
   "execution_count": 141,
   "metadata": {},
   "outputs": [
    {
     "name": "stdout",
     "output_type": "stream",
     "text": [
      "{'Historia': 9, 'Musica': 9, 'Quimica': 9}\n"
     ]
    }
   ],
   "source": [
    "#Método fromkeys(), devuelve un diccionario con las llaves especificadas y el valor especificado.\n",
    "llaves =('Historia','Musica','Quimica')\n",
    "valores = 9\n",
    "nvoDict = dict.fromkeys(llaves, valores)\n",
    "print(nvoDict)"
   ]
  },
  {
   "cell_type": "markdown",
   "metadata": {},
   "source": [
    "###### Acceder a los elementos de un diccionario:"
   ]
  },
  {
   "cell_type": "code",
   "execution_count": 140,
   "metadata": {},
   "outputs": [
    {
     "name": "stdout",
     "output_type": "stream",
     "text": [
      "2113067586\n",
      "Fujiwara\n"
     ]
    }
   ],
   "source": [
    "#Método get(), devuelve el valor del elemento a través de una llave específica\n",
    "nvoDict = {\"nombre\": \"Tania\", \"apellidoP\": \"Rueda\", \"apellidoM\": \"Fujiwara\", \"matricula\": 2113067586}\n",
    "valorDeUnaKey = nvoDict.get(\"matricula\")\n",
    "print(valorDeUnaKey)\n",
    "\n",
    "#También es posible acceder al valor de una llave haciendo referencia a su nombre, entre corchetes\n",
    "valorDeOtraKey = nvoDict.get(\"apellidoM\")\n",
    "print(valorDeOtraKey)"
   ]
  },
  {
   "cell_type": "markdown",
   "metadata": {},
   "source": [
    "###### Eliminar elementos de un diccionario:"
   ]
  },
  {
   "cell_type": "code",
   "execution_count": 148,
   "metadata": {},
   "outputs": [
    {
     "name": "stdout",
     "output_type": "stream",
     "text": [
      "Original: {'nombre': 'Tania', 'apellidoP': 'Rueda', 'apellidoM': 'Fujiwara', 'matricula': 2113067586}\n",
      "{'nombre': 'Tania', 'apellidoP': 'Rueda', 'apellidoM': 'Fujiwara'}\n",
      "Elemento eliminado 2113067586\n"
     ]
    }
   ],
   "source": [
    "#Método pop(), devuelve el elemento especificado eliminado del diccionario\n",
    "nvoDict = {\"nombre\": \"Tania\", \"apellidoP\": \"Rueda\", \"apellidoM\": \"Fujiwara\", \"matricula\": 2113067586}\n",
    "print(\"Original:\",nvoDict)\n",
    "eliminado = nvoDict.pop(\"matricula\")\n",
    "print(nvoDict)\n",
    "print(\"Elemento eliminado\", eliminado)"
   ]
  },
  {
   "cell_type": "code",
   "execution_count": 146,
   "metadata": {},
   "outputs": [
    {
     "name": "stdout",
     "output_type": "stream",
     "text": [
      "Original: {'nombre': 'Tania', 'apellidoP': 'Rueda', 'apellidoM': 'Fujiwara', 'matricula': 2113067586}\n",
      "{'nombre': 'Tania', 'apellidoP': 'Rueda', 'apellidoM': 'Fujiwara'}\n"
     ]
    }
   ],
   "source": [
    "#Método popitem(), elimina el último elemento insertado en el diccionario\n",
    "nvoDict = {\"nombre\": \"Tania\", \"apellidoP\": \"Rueda\", \"apellidoM\": \"Fujiwara\", \"matricula\": 2113067586}\n",
    "print(\"Original:\",nvoDict)\n",
    "nvoDict.popitem()\n",
    "print(nvoDict)"
   ]
  },
  {
   "cell_type": "code",
   "execution_count": 151,
   "metadata": {},
   "outputs": [
    {
     "name": "stdout",
     "output_type": "stream",
     "text": [
      "Original: {'nombre': 'Tania', 'apellidoP': 'Rueda', 'apellidoM': 'Fujiwara', 'matricula': 2113067586}\n",
      "{}\n"
     ]
    }
   ],
   "source": [
    "#Método clear(), elimina todos los elementos de un diccionario\n",
    "nvoDict = {\"nombre\": \"Tania\", \"apellidoP\": \"Rueda\", \"apellidoM\": \"Fujiwara\", \"matricula\": 2113067586}\n",
    "print(\"Original:\",nvoDict)\n",
    "nvoDict.clear()\n",
    "print(nvoDict)"
   ]
  },
  {
   "cell_type": "code",
   "execution_count": 152,
   "metadata": {},
   "outputs": [
    {
     "name": "stdout",
     "output_type": "stream",
     "text": [
      "{'nombre': 'Tania', 'apellidoP': 'Rueda', 'apellidoM': 'Fujiwara'}\n"
     ]
    },
    {
     "ename": "NameError",
     "evalue": "name 'nvoDict' is not defined",
     "output_type": "error",
     "traceback": [
      "\u001b[1;31m---------------------------------------------------------------------------\u001b[0m",
      "\u001b[1;31mNameError\u001b[0m                                 Traceback (most recent call last)",
      "\u001b[1;32m<ipython-input-152-c7578e7b93ef>\u001b[0m in \u001b[0;36m<module>\u001b[1;34m\u001b[0m\n\u001b[0;32m      5\u001b[0m \u001b[1;33m\u001b[0m\u001b[0m\n\u001b[0;32m      6\u001b[0m \u001b[1;32mdel\u001b[0m \u001b[0mnvoDict\u001b[0m\u001b[1;33m\u001b[0m\u001b[1;33m\u001b[0m\u001b[0m\n\u001b[1;32m----> 7\u001b[1;33m \u001b[0mprint\u001b[0m\u001b[1;33m(\u001b[0m\u001b[0mnvoDict\u001b[0m\u001b[1;33m)\u001b[0m\u001b[1;33m\u001b[0m\u001b[1;33m\u001b[0m\u001b[0m\n\u001b[0m",
      "\u001b[1;31mNameError\u001b[0m: name 'nvoDict' is not defined"
     ]
    }
   ],
   "source": [
    "#Palabra clave del, elimina el elemento con el nombre de llave especificada\n",
    "nvoDict = {\"nombre\": \"Tania\", \"apellidoP\": \"Rueda\", \"apellidoM\": \"Fujiwara\", \"matricula\": 2113067586}\n",
    "del nvoDict[\"matricula\"]\n",
    "print(nvoDict)\n",
    "\n",
    "del nvoDict\n",
    "print(nvoDict)"
   ]
  },
  {
   "cell_type": "markdown",
   "metadata": {},
   "source": [
    "###### Otros métodos de dict():"
   ]
  },
  {
   "cell_type": "code",
   "execution_count": 153,
   "metadata": {},
   "outputs": [
    {
     "name": "stdout",
     "output_type": "stream",
     "text": [
      "4\n"
     ]
    }
   ],
   "source": [
    "#Métodod len(), sirve para conocer la longitud de un diccionario (pares de llave-valor)\n",
    "nvoDict = {\"nombre\": \"Tania\", \"apellidoP\": \"Rueda\", \"apellidoM\": \"Fujiwara\", \"matricula\": 2113067586}\n",
    "print(len(nvoDict))"
   ]
  },
  {
   "cell_type": "code",
   "execution_count": 155,
   "metadata": {},
   "outputs": [
    {
     "name": "stdout",
     "output_type": "stream",
     "text": [
      "dict_items([('nombre', 'Tania'), ('apellidoP', 'Rueda'), ('apellidoM', 'Fujiwara'), ('matricula', 2113067586)])\n"
     ]
    }
   ],
   "source": [
    "#Método items(), devuelve un objeto de vista. El objeto de vista contiene los pares llave-valor del diccionario, \n",
    "#como tuplas en una lista.\n",
    "nvoDict = {\"nombre\": \"Tania\", \"apellidoP\": \"Rueda\", \"apellidoM\": \"Fujiwara\", \"matricula\": 2113067586}\n",
    "contenidoDelDict = nvoDict.items()\n",
    "print(contenidoDelDict)"
   ]
  },
  {
   "cell_type": "code",
   "execution_count": 156,
   "metadata": {},
   "outputs": [
    {
     "name": "stdout",
     "output_type": "stream",
     "text": [
      "{'nombre': 'Tania', 'apellidoP': 'Rueda', 'apellidoM': 'Fujiwara', 'matricula': 2113067586}\n"
     ]
    }
   ],
   "source": [
    "#Método copy(), devuelve una copia de un diccionario especificado\n",
    "nvoDict = {\"nombre\": \"Tania\", \"apellidoP\": \"Rueda\", \"apellidoM\": \"Fujiwara\", \"matricula\": 2113067586}\n",
    "copiaDict = nvoDict.copy()\n",
    "print(copiaDict)"
   ]
  },
  {
   "cell_type": "code",
   "execution_count": 161,
   "metadata": {},
   "outputs": [
    {
     "name": "stdout",
     "output_type": "stream",
     "text": [
      "Original: {'nombre': 'Cristina', 'apellidoP': 'Romero', 'apellidoM': 'Flores', 'matricula': 210380608}\n",
      "Nombre: Cristina\n",
      "{'nombre': 'Cristina', 'apellidoP': 'Romero', 'apellidoM': 'Flores', 'matricula': 210380608, 'edad': 28}\n"
     ]
    }
   ],
   "source": [
    "#Método setdefault(), devuelve el valor del elemento con la llave especificada, si la llave no existe, inserte la clave, \n",
    "#con el valor especificado\n",
    "nvoDict = {\"nombre\": \"Cristina\", \"apellidoP\": \"Romero\", \"apellidoM\": \"Flores\", \"matricula\": 210380608}\n",
    "elementoDict = nvoDict.setdefault(\"nombre\",\"Tania\")\n",
    "print(\"Original:\",nvoDict)\n",
    "print(\"Nombre:\",elementoDict)\n",
    "\n",
    "elementoDict = nvoDict.setdefault(\"edad\",28)\n",
    "print(nvoDict)"
   ]
  },
  {
   "cell_type": "code",
   "execution_count": 162,
   "metadata": {},
   "outputs": [
    {
     "name": "stdout",
     "output_type": "stream",
     "text": [
      "dict_keys(['nombre', 'apellidoP', 'apellidoM', 'matricula'])\n"
     ]
    }
   ],
   "source": [
    "#Método keys(), devuelve un objeto de vista. El objeto de vista contiene las llaves del diccionario, como una lista\n",
    "nvoDict = {\"nombre\": \"Tania\", \"apellidoP\": \"Rueda\", \"apellidoM\": \"Fujiwara\", \"matricula\": 2113067586}\n",
    "llavesDict = nvoDict.keys()\n",
    "print(llavesDict)"
   ]
  },
  {
   "cell_type": "code",
   "execution_count": 163,
   "metadata": {},
   "outputs": [
    {
     "name": "stdout",
     "output_type": "stream",
     "text": [
      "dict_values(['Tania', 'Rueda', 'Fujiwara', 2113067586])\n"
     ]
    }
   ],
   "source": [
    "#Método values(), devuelve un objeto de vista. El objeto de vista contiene los valores del diccionario, como una lista\n",
    "nvoDict = {\"nombre\": \"Tania\", \"apellidoP\": \"Rueda\", \"apellidoM\": \"Fujiwara\", \"matricula\": 2113067586}\n",
    "valoresDict = nvoDict.values()\n",
    "print(valoresDict)"
   ]
  }
 ],
 "metadata": {
  "kernelspec": {
   "display_name": "Python 3",
   "language": "python",
   "name": "python3"
  },
  "language_info": {
   "codemirror_mode": {
    "name": "ipython",
    "version": 3
   },
   "file_extension": ".py",
   "mimetype": "text/x-python",
   "name": "python",
   "nbconvert_exporter": "python",
   "pygments_lexer": "ipython3",
   "version": "3.6.10"
  }
 },
 "nbformat": 4,
 "nbformat_minor": 4
}
