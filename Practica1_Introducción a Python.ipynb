{
 "cells": [
  {
   "cell_type": "markdown",
   "metadata": {},
   "source": [
    "# Práctica 1. Introducción a Python"
   ]
  },
  {
   "cell_type": "markdown",
   "metadata": {},
   "source": [
    "Autor: Tania Ivonne Rueda Fujiwara Desarrollar las funciones crea_un_grafo_completo, calcula_grados_de_entrada, dist_grados_de_entrada, dist_normalizada, grafica_distr y grafica_distr_norm, las cuales permitirán graficar la distribución de grados de una gráfica"
   ]
  },
  {
   "cell_type": "code",
   "execution_count": 203,
   "metadata": {},
   "outputs": [],
   "source": [
    "#Defina a n, siendo este un número entero \n",
    "num_entero_para_Kn = 6\n",
    "\n",
    "#Se definen los diccionarios de las gráficas dirigidas:\n",
    "#Los ejemplos:\n",
    "red_ejemplo_Uno = {0: {}, 1: {0}, 2: {0}, 3: {0}, 4: {0}}\n",
    "red_ejemplo_Dos = {0: {1,2,3,4}, 1: {0,2,3,4}, 2: {0 ,1,3,4}, 3: {0,1,2,4}, 4: {0,1,2,3}}\n",
    "\n",
    "#Gráfica dirigida de la práctica\n",
    "grafica = {0: {3,5}, 1: {0,2,4}, 2: {3}, 3: {1,4}, 4: {3}, 5: {4}}"
   ]
  },
  {
   "cell_type": "code",
   "execution_count": 204,
   "metadata": {},
   "outputs": [],
   "source": [
    "#Definiendo la función crea_un_grafo_completo, recibe un número entero n y regresa un diccionario \n",
    "#que representa una gráfica completa Kn \n",
    "def crea_un_grafo_completo(n):\n",
    "    Kn = n\n",
    "    grafica_completa = dict()\n",
    "    \n",
    "#A través del ciclo while generamos todos los nodos (keys) de la n recibida    \n",
    "    llaves = list()\n",
    "    x = 0\n",
    "    while x < Kn:\n",
    "        llaves.append(x)\n",
    "        x += 1\n",
    "        \n",
    "#A través del doble ciclo for se genera el diccionario grafica_completa, que contiene a la grafica Kn\n",
    "    todos_valores = list()\n",
    "    valor = set()\n",
    "    for i in llaves:\n",
    "        for j in llaves:\n",
    "            if i != j:\n",
    "                todos_valores.append(j)\n",
    "                j += 1\n",
    "        valor = set(todos_valores)\n",
    "        grafica_completa.update({llaves[i]: valor})\n",
    "        todos_valores.clear()\n",
    "    return(grafica_completa)\n",
    "pass"
   ]
  },
  {
   "cell_type": "markdown",
   "metadata": {},
   "source": [
    "## Se muestra el diccionario contenedor de la grafica Kn, apartir de la n dedinida."
   ]
  },
  {
   "cell_type": "code",
   "execution_count": 206,
   "metadata": {},
   "outputs": [
    {
     "data": {
      "text/plain": [
       "{0: {1, 2, 3, 4, 5},\n",
       " 1: {0, 2, 3, 4, 5},\n",
       " 2: {0, 1, 3, 4, 5},\n",
       " 3: {0, 1, 2, 4, 5},\n",
       " 4: {0, 1, 2, 3, 5},\n",
       " 5: {0, 1, 2, 3, 4}}"
      ]
     },
     "execution_count": 206,
     "metadata": {},
     "output_type": "execute_result"
    }
   ],
   "source": [
    "crea_un_grafo_completo(num_entero_para_Kn)"
   ]
  },
  {
   "cell_type": "code",
   "execution_count": 207,
   "metadata": {},
   "outputs": [],
   "source": [
    "#Definiendo la función calcula_grados_de_entrada, recibe un diccionario (d_grafica) que representa una gráfica dirigida y \n",
    "#devuelve un diccionario en donde las llaves representan los nodos de la gráfica dirigida y los valores son el grado de\n",
    "#entrada de cada nodo\n",
    "def calcula_grados_de_entrada(d_grafica):\n",
    "    grafica_dirigida = d_grafica\n",
    "    grados_entrada = dict()\n",
    "    lista_grados = list()\n",
    "\n",
    "#En lista_nodos se almacenan todos los nodos (keys) de la red recibida \n",
    "#En nodos_adyacentes se almacenan todos los valores (values) de cada nodos de la red recibida    \n",
    "    lista_nodos = list(grafica_dirigida)\n",
    "    nodos_adyacentes = grafica_dirigida.values()\n",
    "    \n",
    "#A través de este for se calcula el grado de de entrada de cada nodo y se guarda en la lista lista_grados  \n",
    "    elem_conjunto = -1\n",
    "    for w in nodos_adyacentes:\n",
    "        elem_conjunto = len(w)\n",
    "        lista_grados.append(elem_conjunto)      \n",
    "    \n",
    "#A través de este while se crea grados, este es el directorio que contiene el grado de entrada de cada nodo    \n",
    "    indice = 0\n",
    "    while indice < len(lista_nodos):\n",
    "        grados_entrada.update({lista_nodos[indice]: lista_grados[indice]})\n",
    "        indice += 1\n",
    "    return(grados_entrada)\n",
    "pass\n"
   ]
  },
  {
   "cell_type": "markdown",
   "metadata": {},
   "source": [
    "## Se muestra el diccionario contenedor de los grados de entrada de un diccionario "
   ]
  },
  {
   "cell_type": "code",
   "execution_count": 208,
   "metadata": {},
   "outputs": [
    {
     "data": {
      "text/plain": [
       "{0: 5, 1: 5, 2: 5, 3: 5, 4: 5, 5: 5}"
      ]
     },
     "execution_count": 208,
     "metadata": {},
     "output_type": "execute_result"
    }
   ],
   "source": [
    "calcula_grados_de_entrada(crea_un_grafo_completo(num_entero_para_Kn))"
   ]
  },
  {
   "cell_type": "code",
   "execution_count": 209,
   "metadata": {},
   "outputs": [],
   "source": [
    "#Definiendo la función dist_grados_de_entrada, recibe un diccionario (d_grafica) que representa una gráfica dirigida \n",
    "#y devolverá un diccionario (distr) en donde las llaves representan los diferentes grados de entrada, y los valores \n",
    "#representan el número de nodos con dicho grado. Esta función debe utilizar la función calcula_grados_de_entrada. \n",
    "def dist_grados_de_entrada(d_grafica):\n",
    "    grafica = d_grafica\n",
    "    grados_entrada = calcula_grados_de_entrada(grafica)\n",
    "    distr = dict()\n",
    "\n",
    "#En lista_grados_repetidos se almacenan todos los valores (values) de la red recibida      \n",
    "    lista_grados_repetidos = list(grados_entrada.values())\n",
    "    \n",
    "#En conjunto_grados_unicos se almacenan los valores (values) de la red recibida excluyendo a los que se repitan\n",
    "    conjunto_grados_unicos = set(grados_entrada.values())\n",
    "\n",
    "#A través de este for se genera en un diccionario (distr) en donde las llaves representan los diferentes grados de entrada, \n",
    "#y los valores representan el número de nodos con dicho grado\n",
    "    for valor in conjunto_grados_unicos:\n",
    "        distr[valor] = lista_grados_repetidos.count(valor)\n",
    "    return distr\n",
    "pass"
   ]
  },
  {
   "cell_type": "markdown",
   "metadata": {},
   "source": [
    "## Se muestra la distribución de los grados de entrada de un diccionario"
   ]
  },
  {
   "cell_type": "code",
   "execution_count": 210,
   "metadata": {},
   "outputs": [
    {
     "data": {
      "text/plain": [
       "{5: 6}"
      ]
     },
     "execution_count": 210,
     "metadata": {},
     "output_type": "execute_result"
    }
   ],
   "source": [
    "dist_grados_de_entrada(crea_un_grafo_completo(num_entero_para_Kn))"
   ]
  },
  {
   "cell_type": "code",
   "execution_count": 211,
   "metadata": {},
   "outputs": [],
   "source": [
    "#Definiendo la función dist_normalizada, recibe un diccionario (d_grafica) que representa una gráfica dirigida\n",
    "#y devolverá un diccionario (distr_norm) en donde las llaves representan los diferentes grados de salida, y los \n",
    "#valores representan el número de nodos con dicho grado. Esta función debe llamar a la función dist_grados_de_entrada.\n",
    "def dist_normalizada(d_grafica):\n",
    "    grafica = d_grafica\n",
    "    distr_grados = dist_grados_de_entrada(grafica)\n",
    "    distr_norm = dict()\n",
    "    \n",
    "#A través de este for se genera el diccionario distr_norm que contiene la distribición de grados de entrada normalizada \n",
    "    for grado, cant_nodos in distr_grados.items():\n",
    "        distr_norm[grado] = cant_nodos/len(grafica.keys())\n",
    "    \n",
    "    return(distr_norm)\n",
    "pass"
   ]
  },
  {
   "cell_type": "markdown",
   "metadata": {},
   "source": [
    "## Se muestra la distribución de los grados de entrada normalizada de un diccionario"
   ]
  },
  {
   "cell_type": "code",
   "execution_count": 212,
   "metadata": {},
   "outputs": [
    {
     "data": {
      "text/plain": [
       "{5: 1.0}"
      ]
     },
     "execution_count": 212,
     "metadata": {},
     "output_type": "execute_result"
    }
   ],
   "source": [
    "dist_normalizada(crea_un_grafo_completo(num_entero_para_Kn))"
   ]
  },
  {
   "cell_type": "code",
   "execution_count": 213,
   "metadata": {},
   "outputs": [],
   "source": [
    "# Importa la funcion pyplot del modulo matplotlib. La funcion sera llamada con el alias plt\n",
    "import matplotlib.pyplot as plt"
   ]
  },
  {
   "cell_type": "code",
   "execution_count": 214,
   "metadata": {},
   "outputs": [],
   "source": [
    "#Definiendo la función grafica_distr, recibe un diccionario (distr) que representa la distribución de grados \n",
    "#de una gráfica, y grafica dicha distribución usando la librería matplotlib. El eje x debe estar etiquetado como \n",
    "#‘grado nodal’, el eje y como ‘número de nodos’, el título debe ser ‘Distribución de Grados de Entrada’. \n",
    "def grafica_distr(distr):\n",
    "    distribucion = distr\n",
    "    \n",
    "#El eje x esta dado por una lista que contiene los grados (keys) del diccionario recibido\n",
    "    eje_x = list(distribucion.keys())\n",
    "    \n",
    "# El eje_y esta dado por una lista que contiene el número de nodos(values) del diccionario recibido\n",
    "    eje_y = list(distribucion.values())\n",
    "    \n",
    "    plt.plot(eje_x, eje_y, color='blue', marker='o', linestyle='solid')\n",
    "    plt.title(\"Distribución de Grados de Entrada\")\n",
    "    plt.xlabel(\"Grado nodal\")\n",
    "    plt.ylabel(\"Número de nodos\")\n",
    "    plt.show()\n",
    "    \n",
    "pass"
   ]
  },
  {
   "cell_type": "markdown",
   "metadata": {},
   "source": [
    "## Se muestra la gráfica de la distribución de los grados de entrada"
   ]
  },
  {
   "cell_type": "code",
   "execution_count": 215,
   "metadata": {},
   "outputs": [
    {
     "data": {
      "image/png": "[encoded data removed]",
      "text/plain": [
       "<Figure size 432x288 with 1 Axes>"
      ]
     },
     "metadata": {
      "needs_background": "light"
     },
     "output_type": "display_data"
    }
   ],
   "source": [
    "grafica_distr(dist_grados_de_entrada(crea_un_grafo_completo(num_entero_para_Kn)))    \n"
   ]
  },
  {
   "cell_type": "code",
   "execution_count": 216,
   "metadata": {},
   "outputs": [],
   "source": [
    "#Definiendo la función grafica_distr_norm, está recibe un diccionario (distr_norm) que representa la \n",
    "#distribución normalizada de grados de una gráfica, y grafica dicha distribución usando la librería matplotlib. \n",
    "#El eje x debe estar etiquetado como ‘grado nodal’, el eje y como ‘proporción de nodos’, el título debe ser\n",
    "#‘Distribución Normalizada de Grados de Entrada’.\n",
    "def grafica_distr_norm(distr_norm):\n",
    "    distribucion = distr_norm\n",
    "    \n",
    "#El eje x esta dado por una lista que contiene los grados (keys) del diccionario recibido\n",
    "    eje_x = list(distribucion.keys())\n",
    "    \n",
    "# El eje_y esta dado por una lista que contiene la proporción de nodos (values) del diccionario recibido\n",
    "    eje_y = list(distribucion.values())\n",
    "    \n",
    "    plt.plot(eje_x, eje_y, color='blue', marker='o', linestyle='solid')\n",
    "    plt.title(\"Distribución Normalizada de Grados de Entrada\")\n",
    "    plt.xlabel(\"Grado nodal\")\n",
    "    plt.ylabel(\"Proporción de nodos\")\n",
    "    plt.show()\n",
    "pass"
   ]
  },
  {
   "cell_type": "markdown",
   "metadata": {},
   "source": [
    "## Se muestra la gráfica de la distribución de los grados de entrada normalizada"
   ]
  },
  {
   "cell_type": "code",
   "execution_count": 217,
   "metadata": {},
   "outputs": [
    {
     "data": {
      "image/png": "[encoded data removed]",
      "text/plain": [
       "<Figure size 432x288 with 1 Axes>"
      ]
     },
     "metadata": {
      "needs_background": "light"
     },
     "output_type": "display_data"
    }
   ],
   "source": [
    "grafica_distr_norm(dist_normalizada(crea_un_grafo_completo(num_entero_para_Kn)))  "
   ]
  }
 ],
 "metadata": {
  "kernelspec": {
   "display_name": "Python 3",
   "language": "python",
   "name": "python3"
  },
  "language_info": {
   "codemirror_mode": {
    "name": "ipython",
    "version": 3
   },
   "file_extension": ".py",
   "mimetype": "text/x-python",
   "name": "python",
   "nbconvert_exporter": "python",
   "pygments_lexer": "ipython3",
   "version": "3.6.10"
  }
 },
 "nbformat": 4,
 "nbformat_minor": 4
}
