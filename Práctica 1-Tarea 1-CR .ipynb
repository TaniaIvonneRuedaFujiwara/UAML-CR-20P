{
 "cells": [
  {
   "cell_type": "markdown",
   "metadata": {},
   "source": [
    "# Tarea 1 \"Introducción a Python\""
   ]
  },
  {
   "cell_type": "markdown",
   "metadata": {},
   "source": [
    "Autor: Tania Ivonne Rueda Fujiwara\n",
    "Desarrollar las funciones numero_nodos, calcula_grados y grado_maximo, con el fin de representar las redes (diccionarios) a traves de sus listas de adyacencia, considerando que cada nodo de la red está asociado con un conjunto de nodos hacía los que tiene conexión."
   ]
  },
  {
   "cell_type": "code",
   "execution_count": 222,
   "metadata": {
    "scrolled": true
   },
   "outputs": [],
   "source": [
    "#Se crean varios diccionarios \n",
    "red_ejemplo_Uno = {0: [1,2,3,4], 1: [0], 2: [0], 3: [0], 4: [0]}\n",
    "red_ejemplo_Dos = {0: [1,2,3,4], 1: [0,2,3,4], 2: [0 ,1,3,4], 3: [0,1,2,4], 4: [0,1,2,3]}\n",
    "red_ejemplo_Tres = {\"Alicia\": [\"Beto\", \"Mónica\", \"David\", \"Carmen\", \"Carlos\"], \n",
    "          \"Beto\": [\"Alicia\", \"Jorge\"], \n",
    "          \"Mónica\": [\"Alicia\", \"Carlos\", \"Carmen\"], \n",
    "          \"Enrique\": [\"Rosa\", \"Jorge\", \"Irene\"], \n",
    "          \"Irene\": [\"Enrique\", \"Rosa\", \"Jorge\"],\n",
    "          \"David\": [\"Alicia\", \"Carlos\"],\n",
    "          \"Carmen\": [\"Alicia\", \"Mónica\"], \n",
    "          \"Jorge\": [\"Rosa\", \"Beto\", \"Enrique\", \"Irene\"],\n",
    "          \"Rosa\": [\"Irene\", \"Enrique\", \"Jorge\"],\n",
    "          \"Carlos\": [\"Alicia\", \"Mónica\", \"David\"]\n",
    "         }\n"
   ]
  },
  {
   "cell_type": "code",
   "execution_count": 223,
   "metadata": {},
   "outputs": [],
   "source": [
    "#Definiendo la función numero_nodos, está recibe una red y regresa un número entero que indica \n",
    "#la cantidad de nodos en la red  \n",
    "def numero_nodos(red):\n",
    "    red_recibida = red\n",
    "\n",
    "#En nodos se almacenan todos los nodos (keys) de la red recibida \n",
    "    nodos = list(red_recibida)\n",
    "    todos_nodos = 0\n",
    "    print(\"Lista de nodos: \")\n",
    "    print(nodos)\n",
    "\n",
    "#A través de este for se calcula la cantidad de nodos existentes en la red recibida  \n",
    "    for i in nodos:\n",
    "        todos_nodos += 1\n",
    "    return(todos_nodos)\n",
    "pass"
   ]
  },
  {
   "cell_type": "markdown",
   "metadata": {},
   "source": [
    "### Este es el número de nodos contenidos en la Red del diccionario red_ejemplo_Uno: "
   ]
  },
  {
   "cell_type": "code",
   "execution_count": 224,
   "metadata": {},
   "outputs": [
    {
     "name": "stdout",
     "output_type": "stream",
     "text": [
      "Lista de nodos: \n",
      "[0, 1, 2, 3, 4]\n"
     ]
    },
    {
     "data": {
      "text/plain": [
       "5"
      ]
     },
     "execution_count": 224,
     "metadata": {},
     "output_type": "execute_result"
    }
   ],
   "source": [
    "numero_nodos(red_ejemplo_Uno)"
   ]
  },
  {
   "cell_type": "markdown",
   "metadata": {},
   "source": [
    "### Este es el número de nodos contenidos en la Red del diccionario red_ejemplo_Dos: "
   ]
  },
  {
   "cell_type": "code",
   "execution_count": 184,
   "metadata": {},
   "outputs": [
    {
     "name": "stdout",
     "output_type": "stream",
     "text": [
      "Lista de nodos: \n",
      "[0, 1, 2, 3, 4]\n"
     ]
    },
    {
     "data": {
      "text/plain": [
       "5"
      ]
     },
     "execution_count": 184,
     "metadata": {},
     "output_type": "execute_result"
    }
   ],
   "source": [
    "numero_nodos(red_ejemplo_Dos)"
   ]
  },
  {
   "cell_type": "markdown",
   "metadata": {},
   "source": [
    "### Este es el número de nodos contenidos en la Red del diccionario red_ejemplo_Tres: "
   ]
  },
  {
   "cell_type": "code",
   "execution_count": 185,
   "metadata": {},
   "outputs": [
    {
     "name": "stdout",
     "output_type": "stream",
     "text": [
      "Lista de nodos: \n",
      "['Alicia', 'Beto', 'Mónica', 'Enrique', 'Irene', 'David', 'Carmen', 'Jorge', 'Rosa', 'Carlos']\n"
     ]
    },
    {
     "data": {
      "text/plain": [
       "10"
      ]
     },
     "execution_count": 185,
     "metadata": {},
     "output_type": "execute_result"
    }
   ],
   "source": [
    "numero_nodos(red_ejemplo_Tres)"
   ]
  },
  {
   "cell_type": "code",
   "execution_count": 214,
   "metadata": {},
   "outputs": [],
   "source": [
    "#Definiendo la función calcula_grado, está recibe una red y regresa un diccionario en donde las llaves \n",
    "#representan los nodos de la red y los valores representan el grado de entrada de cada nodo.  \n",
    "def calcula_grado(red):\n",
    "    red_recibida = red\n",
    "    grados = dict()\n",
    "    lista_grados = list()\n",
    "\n",
    "#En lista_nodos se almacenan todos los nodos (keys) de la red recibida \n",
    "#En nodos_adyacentes se almacenan todos los valores (values) de cada nodos de la red recibida    \n",
    "    lista_nodos = list(red_recibida)\n",
    "    nodos_adyacentes = red_recibida.values()\n",
    "    \n",
    "#A través de este for se calcula el grado de cada nodo y se guarda en la lista lista_grados  \n",
    "    elem_conjunto = -1\n",
    "    for w in nodos_adyacentes:\n",
    "        elem_conjunto = len(w)\n",
    "        lista_grados.append(elem_conjunto)      \n",
    "    \n",
    "#A través de este while se crea grados, este es el directorio que contiene el grado de entrada de cada nodo    \n",
    "    indice = 0\n",
    "    while indice < len(lista_nodos):\n",
    "        grados.update({lista_nodos[indice]: [lista_grados[indice]]})\n",
    "        indice += 1\n",
    "    print(\"Lista de nodos: \")\n",
    "    print(lista_nodos)\n",
    "    print(\" \")\n",
    "    print(\"Lista de grados: \")\n",
    "    print(lista_grados)\n",
    "    return(grados)\n",
    "pass\n"
   ]
  },
  {
   "cell_type": "markdown",
   "metadata": {},
   "source": [
    "### Este es el diccionario con los nodos y el grado de entrada de cada nodo de la red del diccionario red_ejemplo_Uno: "
   ]
  },
  {
   "cell_type": "code",
   "execution_count": 215,
   "metadata": {},
   "outputs": [
    {
     "name": "stdout",
     "output_type": "stream",
     "text": [
      "Lista de nodos: \n",
      "[0, 1, 2, 3, 4]\n",
      " \n",
      "Lista de grados: \n",
      "[4, 1, 1, 1, 1]\n"
     ]
    },
    {
     "data": {
      "text/plain": [
       "{0: [4], 1: [1], 2: [1], 3: [1], 4: [1]}"
      ]
     },
     "execution_count": 215,
     "metadata": {},
     "output_type": "execute_result"
    }
   ],
   "source": [
    "calcula_grado(red_ejemplo_Uno)"
   ]
  },
  {
   "cell_type": "markdown",
   "metadata": {},
   "source": [
    "### Este es el diccionario con los nodos y el grado de entrada de cada nodo de la red del diccionario red_ejemplo_Dos: "
   ]
  },
  {
   "cell_type": "code",
   "execution_count": 216,
   "metadata": {},
   "outputs": [
    {
     "name": "stdout",
     "output_type": "stream",
     "text": [
      "Lista de nodos: \n",
      "[0, 1, 2, 3, 4]\n",
      " \n",
      "Lista de grados: \n",
      "[4, 4, 4, 4, 4]\n"
     ]
    },
    {
     "data": {
      "text/plain": [
       "{0: [4], 1: [4], 2: [4], 3: [4], 4: [4]}"
      ]
     },
     "execution_count": 216,
     "metadata": {},
     "output_type": "execute_result"
    }
   ],
   "source": [
    "calcula_grado(red_ejemplo_Dos)"
   ]
  },
  {
   "cell_type": "markdown",
   "metadata": {},
   "source": [
    "### Este es el diccionario con los nodos y el grado de entrada de cada nodo de la red del diccionario red_ejemplo_Tres: "
   ]
  },
  {
   "cell_type": "code",
   "execution_count": 217,
   "metadata": {},
   "outputs": [
    {
     "name": "stdout",
     "output_type": "stream",
     "text": [
      "Lista de nodos: \n",
      "['Alicia', 'Beto', 'Mónica', 'Enrique', 'Irene', 'David', 'Carmen', 'Jorge', 'Rosa', 'Carlos']\n",
      " \n",
      "Lista de grados: \n",
      "[5, 2, 3, 3, 3, 2, 2, 4, 3, 3]\n"
     ]
    },
    {
     "data": {
      "text/plain": [
       "{'Alicia': [5],\n",
       " 'Beto': [2],\n",
       " 'Mónica': [3],\n",
       " 'Enrique': [3],\n",
       " 'Irene': [3],\n",
       " 'David': [2],\n",
       " 'Carmen': [2],\n",
       " 'Jorge': [4],\n",
       " 'Rosa': [3],\n",
       " 'Carlos': [3]}"
      ]
     },
     "execution_count": 217,
     "metadata": {},
     "output_type": "execute_result"
    }
   ],
   "source": [
    "calcula_grado(red_ejemplo_Tres)"
   ]
  },
  {
   "cell_type": "code",
   "execution_count": 218,
   "metadata": {},
   "outputs": [],
   "source": [
    "#Definiendo la función grado_maximo, está recibe una red y regresa el valor del grado máximo.Hace uso de calcula_grado  \n",
    "def grado_maximo(red):\n",
    "    red_recibida = red\n",
    "\n",
    "#A través de la función calcula_grado se crea el directorio red_con_grados eu contiene con el grado de entrada de cada nodo\n",
    "    red_con_grados = calcula_grado(red_recibida)\n",
    "    \n",
    "#En valores se almacenan todos los valores (values) de cada nodos de la red recibida\n",
    "    valores = red_con_grados.values()\n",
    "\n",
    "#A través de la función max() se obtiele el grado máximo de la red recibida este se guarda en valor_grado_maximo\n",
    "    valor_grado_maximo = max(valores)\n",
    "    print(\" \")\n",
    "    print(\"Grado Máximo: \")\n",
    "    return(valor_grado_maximo)\n",
    "pass"
   ]
  },
  {
   "cell_type": "markdown",
   "metadata": {},
   "source": [
    "### Este es el grado máximo de la red del diccionario red_ejemplo_Uno: "
   ]
  },
  {
   "cell_type": "code",
   "execution_count": 219,
   "metadata": {},
   "outputs": [
    {
     "name": "stdout",
     "output_type": "stream",
     "text": [
      "Lista de nodos: \n",
      "[0, 1, 2, 3, 4]\n",
      " \n",
      "Lista de grados: \n",
      "[4, 1, 1, 1, 1]\n",
      " \n",
      "Grado Máximo: \n"
     ]
    },
    {
     "data": {
      "text/plain": [
       "[4]"
      ]
     },
     "execution_count": 219,
     "metadata": {},
     "output_type": "execute_result"
    }
   ],
   "source": [
    "grado_maximo(red_ejemplo_Uno)"
   ]
  },
  {
   "cell_type": "markdown",
   "metadata": {},
   "source": [
    "### Este es el grado máximo de la red del diccionario red_ejemplo_Dos: "
   ]
  },
  {
   "cell_type": "code",
   "execution_count": 220,
   "metadata": {},
   "outputs": [
    {
     "name": "stdout",
     "output_type": "stream",
     "text": [
      "Lista de nodos: \n",
      "[0, 1, 2, 3, 4]\n",
      " \n",
      "Lista de grados: \n",
      "[4, 4, 4, 4, 4]\n",
      " \n",
      "Grado Máximo: \n"
     ]
    },
    {
     "data": {
      "text/plain": [
       "[4]"
      ]
     },
     "execution_count": 220,
     "metadata": {},
     "output_type": "execute_result"
    }
   ],
   "source": [
    "grado_maximo(red_ejemplo_Dos)"
   ]
  },
  {
   "cell_type": "markdown",
   "metadata": {},
   "source": [
    "### Este es el grado máximo de la red del diccionario red_ejemplo_Tres: "
   ]
  },
  {
   "cell_type": "code",
   "execution_count": 221,
   "metadata": {},
   "outputs": [
    {
     "name": "stdout",
     "output_type": "stream",
     "text": [
      "Lista de nodos: \n",
      "['Alicia', 'Beto', 'Mónica', 'Enrique', 'Irene', 'David', 'Carmen', 'Jorge', 'Rosa', 'Carlos']\n",
      " \n",
      "Lista de grados: \n",
      "[5, 2, 3, 3, 3, 2, 2, 4, 3, 3]\n",
      " \n",
      "Grado Máximo: \n"
     ]
    },
    {
     "data": {
      "text/plain": [
       "[5]"
      ]
     },
     "execution_count": 221,
     "metadata": {},
     "output_type": "execute_result"
    }
   ],
   "source": [
    "grado_maximo(red_ejemplo_Tres)"
   ]
  }
 ],
 "metadata": {
  "kernelspec": {
   "display_name": "Python 3",
   "language": "python",
   "name": "python3"
  },
  "language_info": {
   "codemirror_mode": {
    "name": "ipython",
    "version": 3
   },
   "file_extension": ".py",
   "mimetype": "text/x-python",
   "name": "python",
   "nbconvert_exporter": "python",
   "pygments_lexer": "ipython3",
   "version": "3.6.10"
  }
 },
 "nbformat": 4,
 "nbformat_minor": 4
}
