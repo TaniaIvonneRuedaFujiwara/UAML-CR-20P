{
 "cells": [
  {
   "cell_type": "markdown",
   "metadata": {},
   "source": [
    "# Tarea 2 Redes aleatorias y su densidad."
   ]
  },
  {
   "cell_type": "markdown",
   "metadata": {},
   "source": [
    "Autor: Tania Ivonne Rueda Fujiwara \n",
    "\n",
    "Desarrollar las funciones densidad y grafica_aleatoria, con el fin de comprender a las redes aleatorias y el concepto de densidad la cual indica la proporción de enlaces que tiene una gráfica con respecto a la cantidad máxima de enlaces que podría tener, estas redes estarán representadas a traves de los diccionarios."
   ]
  },
  {
   "cell_type": "code",
   "execution_count": 103,
   "metadata": {},
   "outputs": [],
   "source": [
    "#Se definen la n y p para la generación de una red aleatoria\n",
    "n = 10\n",
    "nodos = 5\n",
    "probabilidad_Uno = 0.3\n",
    "probabilidad_Dos = 0.6\n",
    "probabilidad_Kn = 1\n",
    "\n",
    "#Se crean varios diccionarios \n",
    "red_ejemplo_Uno = {0: {1,2,3,4}, 1: {0}, 2: {0}, 3: {0}, 4: {0}}\n",
    "red_ejemplo_Dos = {0: {1,2,3,4}, 1: {0,2,3,4}, 2: {0,1,3,4}, 3: {0,1,2,4}, 4: {0,1,2,3}}"
   ]
  },
  {
   "cell_type": "code",
   "execution_count": 104,
   "metadata": {},
   "outputs": [],
   "source": [
    "#Definiendo la función grafica_aleatoria, recibe un entero (n) y un flotante (p) y devolverá un diccionario \n",
    "#representando a una red aleatoria de n nodos y con probabilidad de conexión p\n",
    "def grafica_aleatoria(n,p):\n",
    "    num_nodos = n\n",
    "    probabilidad = p\n",
    "    red_aleatoria = dict()\n",
    "    \n",
    "#A través del ciclo while se generan todos los nodos (keys) para la red aleatoria a partir de la n recibida    \n",
    "    nodos = list()\n",
    "    nodo = 0\n",
    "    while nodo < num_nodos:\n",
    "        nodos.append(nodo)\n",
    "        nodo += 1\n",
    "        \n",
    "#Se importa al módulo random de la libreria NumPy     \n",
    "    from numpy import random\n",
    "    \n",
    "#A través del doble ciclo for se genera el diccionario con la red aleatoria, también es posible generar redes Kn\n",
    "    enlaces = list()\n",
    "    conjunto_E = set()\n",
    "    for n in nodos:\n",
    "        for n_ad in nodos:\n",
    "            numero_aleatorio = random.randint(0, 100) / 100\n",
    "            if numero_aleatorio < probabilidad and n != n_ad:\n",
    "                enlaces.append(n_ad) \n",
    "                n_ad += 1\n",
    "        conjunto_E = set(enlaces)\n",
    "        red_aleatoria.update({nodos[n]: conjunto_E})\n",
    "        enlaces.clear()\n",
    "    return(red_aleatoria)\n",
    "pass"
   ]
  },
  {
   "cell_type": "code",
   "execution_count": 105,
   "metadata": {},
   "outputs": [],
   "source": [
    "#Definiendo la función calcula_grados_de_entrada, recibe un diccionario (d_grafica) que representa una gráfica dirigida y \n",
    "#devuelve un diccionario en donde las llaves representan los nodos de la gráfica dirigida y los valores son el grado de\n",
    "#entrada de cada nodo\n",
    "def calcula_grados_de_entrada(d_grafica):\n",
    "    grafica_dirigida = d_grafica\n",
    "    grados_entrada = dict()\n",
    "    lista_grados = list()\n",
    "\n",
    "#En lista_nodos se almacenan todos los nodos (keys) de la red recibida \n",
    "#En nodos_adyacentes se almacenan todos los valores (values) de cada nodos de la red recibida    \n",
    "    lista_nodos = list(grafica_dirigida)\n",
    "    nodos_adyacentes = grafica_dirigida.values()\n",
    "    \n",
    "#A través de este for se calcula el grado de de entrada de cada nodo y se guarda en la lista lista_grados  \n",
    "    elem_conjunto = -1\n",
    "    for w in nodos_adyacentes:\n",
    "        elem_conjunto = len(w)\n",
    "        lista_grados.append(elem_conjunto)      \n",
    "    \n",
    "#A través de este while se crea grados, este es el directorio que contiene el grado de entrada de cada nodo    \n",
    "    indice = 0\n",
    "    while indice < len(lista_nodos):\n",
    "        grados_entrada.update({lista_nodos[indice]: lista_grados[indice]})\n",
    "        indice += 1\n",
    "    return(grados_entrada)\n",
    "pass"
   ]
  },
  {
   "cell_type": "code",
   "execution_count": 129,
   "metadata": {},
   "outputs": [],
   "source": [
    "#Definiendo la función densidad, recibe un diccionario (red) representando una red y devolverá un número flotante \n",
    "#que denota la densidad de la red\n",
    "def densidad(red):\n",
    "    red_recibida = red\n",
    "    print(\"La red recibida es: \") \n",
    "    print(red_recibida)\n",
    "    \n",
    "#A través de este for se calcula la cantidad de nodos existentes en la red recibida  \n",
    "    nodos = list(red_recibida)\n",
    "    todos_nodos = 0\n",
    "    for i in nodos:\n",
    "        todos_nodos += 1\n",
    "    print(\"\\nCantidad de nodos: \", todos_nodos)\n",
    "    grados = calcula_grados_de_entrada(red_recibida)\n",
    "    print(\"Grados de entrada: \",grados)\n",
    "    suma_de_grados = 0\n",
    "\n",
    "#A través de este for se calcula la suma de los grados de entrada de la red \n",
    "    for j in grados.values():\n",
    "        suma_de_grados += j\n",
    "    print(\"Suma de los grados: \",suma_de_grados)\n",
    "    \n",
    "#Se calcula a mG que es la cantidad de enlaces de la red recibida\n",
    "    mG = int(suma_de_grados / 2)\n",
    "    print(\"El valor de mG: \",mG)\n",
    "    \n",
    "#Se calcula a mKn que es la cantidad de enlaces de la red Kn \n",
    "    mKn = int(( todos_nodos * ( todos_nodos - 1 ) ) / 2)\n",
    "    print(\"El valor de mKn: \",mKn)\n",
    "\n",
    "    densidad = mG / mKn\n",
    "    return('La densidad de la red es:' ,densidad)\n",
    "pass"
   ]
  },
  {
   "cell_type": "markdown",
   "metadata": {},
   "source": [
    "### Se crean 5 redes aleatorias con n = 10 y p = 0.3 y se calcula su Densidad"
   ]
  },
  {
   "cell_type": "code",
   "execution_count": 116,
   "metadata": {},
   "outputs": [
    {
     "name": "stdout",
     "output_type": "stream",
     "text": [
      "La red recibida es: \n",
      "{0: {8, 2, 6}, 1: {8, 9, 2, 3}, 2: {7}, 3: {4, 6}, 4: {0, 8, 6}, 5: {1, 3, 6}, 6: {0, 8, 4, 5}, 7: {9, 3}, 8: {6}, 9: {2}}\n",
      "\n",
      "Cantidad de nodos:  10\n",
      "Grados de entrada:  {0: 3, 1: 4, 2: 1, 3: 2, 4: 3, 5: 3, 6: 4, 7: 2, 8: 1, 9: 1}\n",
      "Suma de los grados:  24\n",
      "El valor de mG:  12\n",
      "El valor de mKn:  45\n"
     ]
    },
    {
     "data": {
      "text/plain": [
       "('La densidad de la red es:', 0.26666666666666666)"
      ]
     },
     "execution_count": 116,
     "metadata": {},
     "output_type": "execute_result"
    }
   ],
   "source": [
    "densidad(grafica_aleatoria(n,probabilidad_Uno))"
   ]
  },
  {
   "cell_type": "code",
   "execution_count": 117,
   "metadata": {},
   "outputs": [
    {
     "name": "stdout",
     "output_type": "stream",
     "text": [
      "La red recibida es: \n",
      "{0: {8, 2, 3}, 1: {5, 6}, 2: {9, 4, 6}, 3: {8, 5, 7}, 4: {1, 3, 5}, 5: {0, 9, 2, 4}, 6: {4, 5}, 7: {0}, 8: {1, 5, 6}, 9: {0, 1, 6, 8}}\n",
      "\n",
      "Cantidad de nodos:  10\n",
      "Grados de entrada:  {0: 3, 1: 2, 2: 3, 3: 3, 4: 3, 5: 4, 6: 2, 7: 1, 8: 3, 9: 4}\n",
      "Suma de los grados:  28\n",
      "El valor de mG:  14\n",
      "El valor de mKn:  45\n"
     ]
    },
    {
     "data": {
      "text/plain": [
       "('La densidad de la red es:', 0.3111111111111111)"
      ]
     },
     "execution_count": 117,
     "metadata": {},
     "output_type": "execute_result"
    }
   ],
   "source": [
    "densidad(grafica_aleatoria(n,probabilidad_Uno))"
   ]
  },
  {
   "cell_type": "code",
   "execution_count": 118,
   "metadata": {},
   "outputs": [
    {
     "name": "stdout",
     "output_type": "stream",
     "text": [
      "La red recibida es: \n",
      "{0: set(), 1: {8, 2, 4, 6}, 2: {1, 4, 5}, 3: {0, 1, 6}, 4: {0, 5}, 5: {6, 7}, 6: {8, 1, 4, 7}, 7: {8, 9, 4}, 8: {2, 5, 6, 7}, 9: {1, 5, 6}}\n",
      "\n",
      "Cantidad de nodos:  10\n",
      "Grados de entrada:  {0: 0, 1: 4, 2: 3, 3: 3, 4: 2, 5: 2, 6: 4, 7: 3, 8: 4, 9: 3}\n",
      "Suma de los grados:  28\n",
      "El valor de mG:  14\n",
      "El valor de mKn:  45\n"
     ]
    },
    {
     "data": {
      "text/plain": [
       "('La densidad de la red es:', 0.3111111111111111)"
      ]
     },
     "execution_count": 118,
     "metadata": {},
     "output_type": "execute_result"
    }
   ],
   "source": [
    "densidad(grafica_aleatoria(n,probabilidad_Uno))"
   ]
  },
  {
   "cell_type": "code",
   "execution_count": 119,
   "metadata": {},
   "outputs": [
    {
     "name": "stdout",
     "output_type": "stream",
     "text": [
      "La red recibida es: \n",
      "{0: {5}, 1: {0, 8, 6}, 2: {0, 1, 8, 7}, 3: {8, 1, 6}, 4: {2, 7}, 5: {1, 9}, 6: {2}, 7: {2, 3, 6}, 8: {6}, 9: {8, 1, 7}}\n",
      "\n",
      "Cantidad de nodos:  10\n",
      "Grados de entrada:  {0: 1, 1: 3, 2: 4, 3: 3, 4: 2, 5: 2, 6: 1, 7: 3, 8: 1, 9: 3}\n",
      "Suma de los grados:  23\n",
      "El valor de mG:  11\n",
      "El valor de mKn:  45\n"
     ]
    },
    {
     "data": {
      "text/plain": [
       "('La densidad de la red es:', 0.24444444444444444)"
      ]
     },
     "execution_count": 119,
     "metadata": {},
     "output_type": "execute_result"
    }
   ],
   "source": [
    "densidad(grafica_aleatoria(n,probabilidad_Uno))"
   ]
  },
  {
   "cell_type": "code",
   "execution_count": 120,
   "metadata": {},
   "outputs": [
    {
     "name": "stdout",
     "output_type": "stream",
     "text": [
      "La red recibida es: \n",
      "{0: {8, 1, 7}, 1: {2, 6}, 2: {0, 4}, 3: {0, 6}, 4: {9}, 5: {2, 4}, 6: {0, 9, 7}, 7: {0, 9, 5}, 8: {2, 3, 5}, 9: {2, 7}}\n",
      "\n",
      "Cantidad de nodos:  10\n",
      "Grados de entrada:  {0: 3, 1: 2, 2: 2, 3: 2, 4: 1, 5: 2, 6: 3, 7: 3, 8: 3, 9: 2}\n",
      "Suma de los grados:  23\n",
      "El valor de mG:  11\n",
      "El valor de mKn:  45\n"
     ]
    },
    {
     "data": {
      "text/plain": [
       "('La densidad de la red es:', 0.24444444444444444)"
      ]
     },
     "execution_count": 120,
     "metadata": {},
     "output_type": "execute_result"
    }
   ],
   "source": [
    "densidad(grafica_aleatoria(n,probabilidad_Uno))"
   ]
  },
  {
   "cell_type": "markdown",
   "metadata": {},
   "source": [
    "### Se crean 5 redes aleatorias con n = 10 y p = 0.6 y se calcula su Densidad"
   ]
  },
  {
   "cell_type": "code",
   "execution_count": 121,
   "metadata": {},
   "outputs": [
    {
     "name": "stdout",
     "output_type": "stream",
     "text": [
      "La red recibida es: \n",
      "{0: {1, 2, 3, 4, 5, 6, 7}, 1: {0, 2, 3, 4, 6, 8}, 2: {0, 1, 3, 4, 5, 6, 7, 8, 9}, 3: {0, 1, 4, 5, 6, 8, 9}, 4: {0, 1, 5}, 5: {0, 1, 2, 4, 6, 7, 8}, 6: {8, 4, 5, 7}, 7: {0, 2, 4, 5, 9}, 8: {0, 1, 3, 4, 9}, 9: {0, 8, 5, 7}}\n",
      "\n",
      "Cantidad de nodos:  10\n",
      "Grados de entrada:  {0: 7, 1: 6, 2: 9, 3: 7, 4: 3, 5: 7, 6: 4, 7: 5, 8: 5, 9: 4}\n",
      "Suma de los grados:  57\n",
      "El valor de mG:  28\n",
      "El valor de mKn:  45\n"
     ]
    },
    {
     "data": {
      "text/plain": [
       "('La densidad de la red es:', 0.6222222222222222)"
      ]
     },
     "execution_count": 121,
     "metadata": {},
     "output_type": "execute_result"
    }
   ],
   "source": [
    "densidad(grafica_aleatoria(n,probabilidad_Dos))"
   ]
  },
  {
   "cell_type": "code",
   "execution_count": 122,
   "metadata": {},
   "outputs": [
    {
     "name": "stdout",
     "output_type": "stream",
     "text": [
      "La red recibida es: \n",
      "{0: {1, 2, 3, 6, 7, 9}, 1: {2, 3, 4, 5, 6, 7}, 2: {0, 1, 5, 6, 7, 8, 9}, 3: {0, 1, 2, 4, 6, 7, 8}, 4: {8, 5, 6, 7}, 5: {1, 3, 6, 7, 8, 9}, 6: {3, 7}, 7: {0, 2, 3, 5, 9}, 8: {9, 3}, 9: {0, 1, 3, 5, 8}}\n",
      "\n",
      "Cantidad de nodos:  10\n",
      "Grados de entrada:  {0: 6, 1: 6, 2: 7, 3: 7, 4: 4, 5: 6, 6: 2, 7: 5, 8: 2, 9: 5}\n",
      "Suma de los grados:  50\n",
      "El valor de mG:  25\n",
      "El valor de mKn:  45\n"
     ]
    },
    {
     "data": {
      "text/plain": [
       "('La densidad de la red es:', 0.5555555555555556)"
      ]
     },
     "execution_count": 122,
     "metadata": {},
     "output_type": "execute_result"
    }
   ],
   "source": [
    "densidad(grafica_aleatoria(n,probabilidad_Dos))"
   ]
  },
  {
   "cell_type": "code",
   "execution_count": 123,
   "metadata": {},
   "outputs": [
    {
     "name": "stdout",
     "output_type": "stream",
     "text": [
      "La red recibida es: \n",
      "{0: {8, 2, 4}, 1: {0, 2, 4}, 2: {0, 5, 7, 8, 9}, 3: {1, 2, 4}, 4: {2, 3, 5, 7, 8, 9}, 5: {0, 8, 4}, 6: {0, 1, 5, 7, 8, 9}, 7: {0, 2, 4}, 8: {0, 2, 4, 6, 7}, 9: {1, 3, 4, 5, 7, 8}}\n",
      "\n",
      "Cantidad de nodos:  10\n",
      "Grados de entrada:  {0: 3, 1: 3, 2: 5, 3: 3, 4: 6, 5: 3, 6: 6, 7: 3, 8: 5, 9: 6}\n",
      "Suma de los grados:  43\n",
      "El valor de mG:  21\n",
      "El valor de mKn:  45\n"
     ]
    },
    {
     "data": {
      "text/plain": [
       "('La densidad de la red es:', 0.4666666666666667)"
      ]
     },
     "execution_count": 123,
     "metadata": {},
     "output_type": "execute_result"
    }
   ],
   "source": [
    "densidad(grafica_aleatoria(n,probabilidad_Dos))"
   ]
  },
  {
   "cell_type": "code",
   "execution_count": 124,
   "metadata": {},
   "outputs": [
    {
     "name": "stdout",
     "output_type": "stream",
     "text": [
      "La red recibida es: \n",
      "{0: {1, 2, 4, 6, 8, 9}, 1: {0, 8, 3, 4}, 2: {0, 1, 5, 6, 8, 9}, 3: {1, 4, 6, 7, 8}, 4: {0, 1, 2, 5, 8, 9}, 5: {1, 2, 3, 4, 6, 8}, 6: {2, 3, 7, 8, 9}, 7: {8, 9, 2}, 8: {0, 1, 2, 4, 5, 6, 7}, 9: {0, 8, 4, 6}}\n",
      "\n",
      "Cantidad de nodos:  10\n",
      "Grados de entrada:  {0: 6, 1: 4, 2: 6, 3: 5, 4: 6, 5: 6, 6: 5, 7: 3, 8: 7, 9: 4}\n",
      "Suma de los grados:  52\n",
      "El valor de mG:  26\n",
      "El valor de mKn:  45\n"
     ]
    },
    {
     "data": {
      "text/plain": [
       "('La densidad de la red es:', 0.5777777777777777)"
      ]
     },
     "execution_count": 124,
     "metadata": {},
     "output_type": "execute_result"
    }
   ],
   "source": [
    "densidad(grafica_aleatoria(n,probabilidad_Dos))"
   ]
  },
  {
   "cell_type": "code",
   "execution_count": 125,
   "metadata": {},
   "outputs": [
    {
     "name": "stdout",
     "output_type": "stream",
     "text": [
      "La red recibida es: \n",
      "{0: {3, 4, 5, 6, 7, 8, 9}, 1: {0, 4, 5, 6, 7, 8}, 2: {0, 1, 3, 7}, 3: {1, 4, 5, 6, 9}, 4: {2, 3, 6, 7, 8, 9}, 5: {0, 1, 2, 3, 7, 8, 9}, 6: {9, 2, 4, 5}, 7: {0, 2, 3, 5, 9}, 8: {0, 4, 5, 6, 7}, 9: {1, 3, 4, 7, 8}}\n",
      "\n",
      "Cantidad de nodos:  10\n",
      "Grados de entrada:  {0: 7, 1: 6, 2: 4, 3: 5, 4: 6, 5: 7, 6: 4, 7: 5, 8: 5, 9: 5}\n",
      "Suma de los grados:  54\n",
      "El valor de mG:  27\n",
      "El valor de mKn:  45\n"
     ]
    },
    {
     "data": {
      "text/plain": [
       "('La densidad de la red es:', 0.6)"
      ]
     },
     "execution_count": 125,
     "metadata": {},
     "output_type": "execute_result"
    }
   ],
   "source": [
    "densidad(grafica_aleatoria(n,probabilidad_Dos))"
   ]
  },
  {
   "cell_type": "markdown",
   "metadata": {},
   "source": [
    "### Se crea 1 red completa con n = 10 y p = 1 y se calcula su Densidad"
   ]
  },
  {
   "cell_type": "code",
   "execution_count": 126,
   "metadata": {},
   "outputs": [
    {
     "name": "stdout",
     "output_type": "stream",
     "text": [
      "La red recibida es: \n",
      "{0: {1, 2, 3, 4, 5, 6, 7, 8, 9}, 1: {0, 2, 3, 4, 5, 6, 7, 8, 9}, 2: {0, 1, 3, 4, 5, 6, 7, 8, 9}, 3: {0, 1, 2, 4, 5, 6, 7, 8, 9}, 4: {0, 1, 2, 3, 5, 6, 7, 8, 9}, 5: {0, 1, 2, 3, 4, 6, 7, 8, 9}, 6: {0, 1, 2, 3, 4, 5, 7, 8, 9}, 7: {0, 1, 2, 3, 4, 5, 6, 8, 9}, 8: {0, 1, 2, 3, 4, 5, 6, 7, 9}, 9: {0, 1, 2, 3, 4, 5, 6, 7, 8}}\n",
      "\n",
      "Cantidad de nodos:  10\n",
      "Grados de entrada:  {0: 9, 1: 9, 2: 9, 3: 9, 4: 9, 5: 9, 6: 9, 7: 9, 8: 9, 9: 9}\n",
      "Suma de los grados:  90\n",
      "El valor de mG:  45\n",
      "El valor de mKn:  45\n"
     ]
    },
    {
     "data": {
      "text/plain": [
       "('La densidad de la red es:', 1.0)"
      ]
     },
     "execution_count": 126,
     "metadata": {},
     "output_type": "execute_result"
    }
   ],
   "source": [
    "densidad(grafica_aleatoria(n,probabilidad_Kn))"
   ]
  },
  {
   "cell_type": "markdown",
   "metadata": {},
   "source": [
    "### Se calcula la densidad de las redes que están de ejemplo en la Tarea 2"
   ]
  },
  {
   "cell_type": "code",
   "execution_count": 113,
   "metadata": {},
   "outputs": [
    {
     "name": "stdout",
     "output_type": "stream",
     "text": [
      "La red recibida es: \n",
      "{0: {1, 2, 3, 4}, 1: {0}, 2: {0}, 3: {0}, 4: {0}}\n",
      "\n",
      "Cantidad de nodos:  5\n",
      "Grados de entrada:  {0: 4, 1: 1, 2: 1, 3: 1, 4: 1}\n",
      "Suma de los grados:  8\n",
      "El valor de mG:  4\n",
      "El valor de mKn:  10\n"
     ]
    },
    {
     "data": {
      "text/plain": [
       "('La densidad de la red es:', 0.4)"
      ]
     },
     "execution_count": 113,
     "metadata": {},
     "output_type": "execute_result"
    }
   ],
   "source": [
    "densidad(red_ejemplo_Uno)"
   ]
  },
  {
   "cell_type": "code",
   "execution_count": 115,
   "metadata": {},
   "outputs": [
    {
     "name": "stdout",
     "output_type": "stream",
     "text": [
      "La red recibida es: \n",
      "{0: {1, 2, 3, 4}, 1: {0, 2, 3, 4}, 2: {0, 1, 3, 4}, 3: {0, 1, 2, 4}, 4: {0, 1, 2, 3}}\n",
      "\n",
      "Cantidad de nodos:  5\n",
      "Grados de entrada:  {0: 4, 1: 4, 2: 4, 3: 4, 4: 4}\n",
      "Suma de los grados:  20\n",
      "El valor de mG:  10\n",
      "El valor de mKn:  10\n"
     ]
    },
    {
     "data": {
      "text/plain": [
       "('La densidad de la red es:', 1.0)"
      ]
     },
     "execution_count": 115,
     "metadata": {},
     "output_type": "execute_result"
    }
   ],
   "source": [
    "densidad(red_ejemplo_Dos)"
   ]
  }
 ],
 "metadata": {
  "kernelspec": {
   "display_name": "Python 3",
   "language": "python",
   "name": "python3"
  },
  "language_info": {
   "codemirror_mode": {
    "name": "ipython",
    "version": 3
   },
   "file_extension": ".py",
   "mimetype": "text/x-python",
   "name": "python",
   "nbconvert_exporter": "python",
   "pygments_lexer": "ipython3",
   "version": "3.6.10"
  }
 },
 "nbformat": 4,
 "nbformat_minor": 4
}
